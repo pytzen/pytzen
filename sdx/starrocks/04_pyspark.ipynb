{
 "cells": [
  {
   "cell_type": "code",
   "execution_count": null,
   "metadata": {},
   "outputs": [],
   "source": [
    "from pyspark.sql import SparkSession"
   ]
  },
  {
   "cell_type": "code",
   "execution_count": null,
   "metadata": {},
   "outputs": [],
   "source": [
    "# Path to the MySQL JDBC driver jar\n",
    "jdbc_driver_path = \"/home/pytzen/Documents/mysql-connector-java-8.0.28.jar\"\n",
    "\n",
    "# Create a Spark session with the JDBC driver\n",
    "spark = SparkSession.builder \\\n",
    "    .appName(\"StarRocksAccess\") \\\n",
    "    .config(\"spark.jars\", jdbc_driver_path) \\\n",
    "    .getOrCreate()\n",
    "\n",
    "# JDBC URL for connecting to StarRocks \n",
    "# through the external catalog (jdbc_mysql)\n",
    "jdbc_url = \"jdbc:mysql://localhost:9030/sr_hub\"  \n",
    "\n",
    "# JDBC connection properties\n",
    "connection_properties = {\n",
    "    \"user\": \"root\",\n",
    "    \"password\": \"\",\n",
    "    \"driver\": \"com.mysql.cj.jdbc.Driver\"\n",
    "}"
   ]
  },
  {
   "cell_type": "code",
   "execution_count": null,
   "metadata": {},
   "outputs": [],
   "source": [
    "# Example to read a table\n",
    "table_name = \"sr_member\"\n",
    "df = spark.read.jdbc(url=jdbc_url, \n",
    "                     table=table_name, \n",
    "                     properties=connection_properties)\n",
    "df.show()\n",
    "spark.stop()"
   ]
  }
 ],
 "metadata": {
  "kernelspec": {
   "display_name": "pyspark",
   "language": "python",
   "name": "python3"
  },
  "language_info": {
   "codemirror_mode": {
    "name": "ipython",
    "version": 3
   },
   "file_extension": ".py",
   "mimetype": "text/x-python",
   "name": "python",
   "nbconvert_exporter": "python",
   "pygments_lexer": "ipython3",
   "version": "3.10.13"
  }
 },
 "nbformat": 4,
 "nbformat_minor": 2
}
