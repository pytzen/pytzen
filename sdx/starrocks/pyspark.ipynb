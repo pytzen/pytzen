{
 "cells": [
  {
   "cell_type": "code",
   "execution_count": 1,
   "metadata": {},
   "outputs": [
    {
     "name": "stderr",
     "output_type": "stream",
     "text": [
      "23/12/10 19:12:14 WARN Utils: Your hostname, debian12 resolves to a loopback address: 127.0.1.1; using 192.168.15.10 instead (on interface wlo1)\n",
      "23/12/10 19:12:14 WARN Utils: Set SPARK_LOCAL_IP if you need to bind to another address\n",
      "23/12/10 19:12:14 WARN NativeCodeLoader: Unable to load native-hadoop library for your platform... using builtin-java classes where applicable\n",
      "Setting default log level to \"WARN\".\n",
      "To adjust logging level use sc.setLogLevel(newLevel). For SparkR, use setLogLevel(newLevel).\n"
     ]
    },
    {
     "name": "stdout",
     "output_type": "stream",
     "text": [
      "+-----+--------+---------+----------+--------+\n",
      "|sr_id|    name|city_code|  reg_date|verified|\n",
      "+-----+--------+---------+----------+--------+\n",
      "|    6|mohammed|   300000|2022-03-17|    true|\n",
      "|    1|     tom|   100000|2022-03-13|    true|\n",
      "|    5|  pavlov|   210000|2022-03-16|   false|\n",
      "|    4| ronaldo|   100000|2022-03-15|   false|\n",
      "|    2| johndoe|   210000|2022-03-14|   false|\n",
      "|    3|  maruko|   200000|2022-03-14|    true|\n",
      "+-----+--------+---------+----------+--------+\n",
      "\n"
     ]
    }
   ],
   "source": [
    "from pyspark.sql import SparkSession\n",
    "\n",
    "# Path to the MySQL JDBC driver jar\n",
    "jdbc_driver_path = \"/home/pytzen/Documents/mysql-connector-java-8.0.28.jar\"\n",
    "\n",
    "# Create a Spark session with the JDBC driver\n",
    "spark = SparkSession.builder \\\n",
    "    .appName(\"StarRocksAccess\") \\\n",
    "    .config(\"spark.jars\", jdbc_driver_path) \\\n",
    "    .getOrCreate()\n",
    "\n",
    "# JDBC URL for connecting to StarRocks \n",
    "# through the external catalog (jdbc_mysql)\n",
    "jdbc_url = \"jdbc:mysql://localhost:9030/sr_hub\"  \n",
    "\n",
    "# JDBC connection properties\n",
    "connection_properties = {\n",
    "    \"user\": \"root\",\n",
    "    \"password\": \"\",\n",
    "    \"driver\": \"com.mysql.cj.jdbc.Driver\"\n",
    "}\n",
    "\n",
    "# Example to read a table\n",
    "table_name = \"sr_member\"\n",
    "df = spark.read.jdbc(url=jdbc_url, \n",
    "                     table=table_name, \n",
    "                     properties=connection_properties)\n",
    "df.show()\n",
    "\n",
    "# Stopping the Spark session\n",
    "spark.stop()"
   ]
  }
 ],
 "metadata": {
  "kernelspec": {
   "display_name": "pyspark",
   "language": "python",
   "name": "python3"
  },
  "language_info": {
   "codemirror_mode": {
    "name": "ipython",
    "version": 3
   },
   "file_extension": ".py",
   "mimetype": "text/x-python",
   "name": "python",
   "nbconvert_exporter": "python",
   "pygments_lexer": "ipython3",
   "version": "3.10.13"
  }
 },
 "nbformat": 4,
 "nbformat_minor": 2
}
